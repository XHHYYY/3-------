{
 "cells": [
  {
   "cell_type": "code",
   "execution_count": 1,
   "metadata": {},
   "outputs": [],
   "source": [
    "\n",
    "\n",
    "class Memory():\n",
    "    def __init__(self, num=0, is_free=True, begin=0, size=1024, next=None) -> None:\n",
    "        self.mem_num    = num\n",
    "        self.is_free    = is_free\n",
    "        self.begin      = begin\n",
    "        self.size       = size\n",
    "        self.next       = next\n",
    "        print('init active')\n",
    "        \n",
    "    def __del__(self):\n",
    "        print('del active, num = {}'.format(self.mem_num))\n",
    "        \n",
    "    def allocate_mem(self, size, prev_next):\n",
    "        if size > self.size:\n",
    "            raise Exception('Memory Overflow')\n",
    "        elif size == self.size:\n",
    "            self.is_free = False\n",
    "            return self\n",
    "        \n",
    "        \n",
    "        new_mem = Memory(self.mem_num, False, self.begin, size, self)\n",
    "        prev_next = new_mem\n",
    "        new_mem.next = self\n",
    "        \n",
    "        self.begin = self.begin + size\n",
    "        self.size  = self.size - size\n",
    "        self.update_num(True)\n",
    "        \n",
    "    def free_mem(self, prev_next):\n",
    "        if self.is_free:\n",
    "            raise Exception('Memory already free')\n",
    "        prev_next = self.next\n",
    "        assert isinstance(self.next, Memory)\n",
    "        self.next.begin = self.begin\n",
    "        self.next.size = self.size + self.next.size\n",
    "        self.update_num(False)\n",
    "        del self\n",
    "        \n",
    "    def update_num(self, is_allocate:bool):\n",
    "        if self.next != None:\n",
    "            self.next.update_num()\n",
    "        self.mem_num += 1 if is_allocate else -1\n",
    "        \n",
    "def read_sequence() -> list:\n",
    "    with open('./sequence.txt', 'r') as f:\n",
    "        txt = f.read()\n",
    "    requirement_list = []\n",
    "    list_sequence = txt.split('\\n')\n",
    "    for requirement in list_sequence:\n",
    "        if requirement == '':\n",
    "            break\n",
    "        temp = list(map(int, requirement.split()))\n",
    "        requirement_list.append(temp)\n",
    "    return requirement_list\n",
    "\n",
    "if __name__ == '__main__':\n",
    "    requirements = read_sequence()\n",
    "    init = Memory()\n",
    "    new = init.allocate_mem(512, None)\n",
    "    "
   ]
  },
  {
   "cell_type": "code",
   "execution_count": 12,
   "metadata": {},
   "outputs": [
    {
     "name": "stdout",
     "output_type": "stream",
     "text": [
      "[0, 1, 2, 3, 3]\n",
      "[0, 1, 3, 2, 5, 4, 3]\n"
     ]
    }
   ],
   "source": [
    "import heapq\n",
    "heap = [3,1,5,2,6,4]\n",
    "heapq.heapify(heap)\n",
    "heapq.heappush(heap, 4)\n",
    "for i in range(len(heap)):\n",
    "    heap[i] -= 1\n",
    "# while(heap != []):\n",
    "#     print(heapq.heappop(heap))\n",
    "print(heapq.nsmallest(5, heap))\n",
    "print((heap))"
   ]
  },
  {
   "cell_type": "code",
   "execution_count": 20,
   "metadata": {},
   "outputs": [
    {
     "name": "stdout",
     "output_type": "stream",
     "text": [
      "True\n"
     ]
    }
   ],
   "source": [
    "import typing\n",
    "# class A():\n",
    "#     def __init__(self, num):\n",
    "#         A.n = num\n",
    "a:typing.List[int] = [0]\n",
    "heapq.heapify(a)\n",
    "heapq.nsmallest(1, a)\n",
    "# for i,_ in enumerate(a):\n",
    "#     a[i] -= 1\n",
    "print(a == [0])"
   ]
  }
 ],
 "metadata": {
  "kernelspec": {
   "display_name": "base",
   "language": "python",
   "name": "python3"
  },
  "language_info": {
   "codemirror_mode": {
    "name": "ipython",
    "version": 3
   },
   "file_extension": ".py",
   "mimetype": "text/x-python",
   "name": "python",
   "nbconvert_exporter": "python",
   "pygments_lexer": "ipython3",
   "version": "3.8.8"
  },
  "orig_nbformat": 4
 },
 "nbformat": 4,
 "nbformat_minor": 2
}
