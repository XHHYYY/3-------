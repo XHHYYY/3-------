{
 "cells": [
  {
   "cell_type": "code",
   "execution_count": 1,
   "metadata": {},
   "outputs": [],
   "source": [
    "\n",
    "\n",
    "class Memory():\n",
    "    def __init__(self, num=0, is_free=True, begin=0, size=1024, next=None) -> None:\n",
    "        self.mem_num    = num\n",
    "        self.is_free    = is_free\n",
    "        self.begin      = begin\n",
    "        self.size       = size\n",
    "        self.next       = next\n",
    "        print('init active')\n",
    "        \n",
    "    def __del__(self):\n",
    "        print('del active, num = {}'.format(self.mem_num))\n",
    "        \n",
    "    def allocate_mem(self, size, prev_next):\n",
    "        if size > self.size:\n",
    "            raise Exception('Memory Overflow')\n",
    "        elif size == self.size:\n",
    "            self.is_free = False\n",
    "            return self\n",
    "        \n",
    "        \n",
    "        new_mem = Memory(self.mem_num, False, self.begin, size, self)\n",
    "        prev_next = new_mem\n",
    "        new_mem.next = self\n",
    "        \n",
    "        self.begin = self.begin + size\n",
    "        self.size  = self.size - size\n",
    "        self.update_num(True)\n",
    "        \n",
    "    def free_mem(self, prev_next):\n",
    "        if self.is_free:\n",
    "            raise Exception('Memory already free')\n",
    "        prev_next = self.next\n",
    "        assert isinstance(self.next, Memory)\n",
    "        self.next.begin = self.begin\n",
    "        self.next.size = self.size + self.next.size\n",
    "        self.update_num(False)\n",
    "        del self\n",
    "        \n",
    "    def update_num(self, is_allocate:bool):\n",
    "        if self.next != None:\n",
    "            self.next.update_num()\n",
    "        self.mem_num += 1 if is_allocate else -1\n",
    "        \n",
    "def read_sequence() -> list:\n",
    "    with open('./sequence.txt', 'r') as f:\n",
    "        txt = f.read()\n",
    "    requirement_list = []\n",
    "    list_sequence = txt.split('\\n')\n",
    "    for requirement in list_sequence:\n",
    "        if requirement == '':\n",
    "            break\n",
    "        temp = list(map(int, requirement.split()))\n",
    "        requirement_list.append(temp)\n",
    "    return requirement_list\n",
    "\n",
    "if __name__ == '__main__':\n",
    "    requirements = read_sequence()\n",
    "    init = Memory()\n",
    "    new = init.allocate_mem(512, None)\n",
    "    "
   ]
  },
  {
   "cell_type": "code",
   "execution_count": 25,
   "metadata": {},
   "outputs": [
    {
     "name": "stdout",
     "output_type": "stream",
     "text": [
      "[3, 3]\n",
      "[3, 3, 3, 3, 3, 4]\n"
     ]
    }
   ],
   "source": [
    "import heapq\n",
    "heap = [3, 3, 3, 3, 3]\n",
    "heapq.heapify(heap)\n",
    "heapq.heappush(heap, 4)\n",
    "# for i in range(len(heap)):\n",
    "#     heap[i] -= 1\n",
    "# while(heap != []):\n",
    "#     print(heapq.heappop(heap))\n",
    "print(heapq.nsmallest(2, heap))\n",
    "print((heap))"
   ]
  },
  {
   "cell_type": "code",
   "execution_count": 41,
   "metadata": {},
   "outputs": [
    {
     "ename": "TypeError",
     "evalue": "'<' not supported between instances of 'A' and 'A'",
     "output_type": "error",
     "traceback": [
      "\u001b[1;31m---------------------------------------------------------------------------\u001b[0m",
      "\u001b[1;31mTypeError\u001b[0m                                 Traceback (most recent call last)",
      "\u001b[1;32md:\\GoodGoodStudy\\Term6.0\\操作系统\\Projects\\3 动态分区管理\\codes\\playground.ipynb 单元格 3\u001b[0m in \u001b[0;36m<module>\u001b[1;34m\u001b[0m\n\u001b[0;32m      <a href='vscode-notebook-cell:/d%3A/GoodGoodStudy/Term6.0/%E6%93%8D%E4%BD%9C%E7%B3%BB%E7%BB%9F/Projects/3%20%E5%8A%A8%E6%80%81%E5%88%86%E5%8C%BA%E7%AE%A1%E7%90%86/codes/playground.ipynb#W2sZmlsZQ%3D%3D?line=4'>5</a>\u001b[0m         \u001b[39mself\u001b[39m\u001b[39m.\u001b[39mn \u001b[39m=\u001b[39m num\n\u001b[0;32m      <a href='vscode-notebook-cell:/d%3A/GoodGoodStudy/Term6.0/%E6%93%8D%E4%BD%9C%E7%B3%BB%E7%BB%9F/Projects/3%20%E5%8A%A8%E6%80%81%E5%88%86%E5%8C%BA%E7%AE%A1%E7%90%86/codes/playground.ipynb#W2sZmlsZQ%3D%3D?line=6'>7</a>\u001b[0m a \u001b[39m=\u001b[39m [(\u001b[39m1\u001b[39m, A(\u001b[39m3\u001b[39m)), (\u001b[39m1\u001b[39m, A(\u001b[39m4\u001b[39m)), (\u001b[39m3\u001b[39m, A(\u001b[39m0\u001b[39m))]\n\u001b[1;32m----> <a href='vscode-notebook-cell:/d%3A/GoodGoodStudy/Term6.0/%E6%93%8D%E4%BD%9C%E7%B3%BB%E7%BB%9F/Projects/3%20%E5%8A%A8%E6%80%81%E5%88%86%E5%8C%BA%E7%AE%A1%E7%90%86/codes/playground.ipynb#W2sZmlsZQ%3D%3D?line=7'>8</a>\u001b[0m heapq\u001b[39m.\u001b[39;49mheapify(a)\n\u001b[0;32m      <a href='vscode-notebook-cell:/d%3A/GoodGoodStudy/Term6.0/%E6%93%8D%E4%BD%9C%E7%B3%BB%E7%BB%9F/Projects/3%20%E5%8A%A8%E6%80%81%E5%88%86%E5%8C%BA%E7%AE%A1%E7%90%86/codes/playground.ipynb#W2sZmlsZQ%3D%3D?line=8'>9</a>\u001b[0m m \u001b[39m=\u001b[39m heapq\u001b[39m.\u001b[39mnsmallest(\u001b[39m1\u001b[39m, a)\n\u001b[0;32m     <a href='vscode-notebook-cell:/d%3A/GoodGoodStudy/Term6.0/%E6%93%8D%E4%BD%9C%E7%B3%BB%E7%BB%9F/Projects/3%20%E5%8A%A8%E6%80%81%E5%88%86%E5%8C%BA%E7%AE%A1%E7%90%86/codes/playground.ipynb#W2sZmlsZQ%3D%3D?line=9'>10</a>\u001b[0m \u001b[39mprint\u001b[39m(m)\n",
      "\u001b[1;31mTypeError\u001b[0m: '<' not supported between instances of 'A' and 'A'"
     ]
    }
   ],
   "source": [
    "import typing\n",
    "import heapq\n",
    "class A():\n",
    "    def __init__(self, num):\n",
    "        self.n = num\n",
    "\n",
    "a = [(1, A(3)), (1, A(4)), (3, A(0))]\n",
    "heapq.heapify(a)\n",
    "m = heapq.nsmallest(1, a)\n",
    "print(m)"
   ]
  },
  {
   "cell_type": "code",
   "execution_count": 23,
   "metadata": {},
   "outputs": [
    {
     "name": "stdout",
     "output_type": "stream",
     "text": [
      "1 2\n",
      "3\n"
     ]
    }
   ],
   "source": [
    "def test(num):\n",
    "    print(num)\n",
    "\n",
    "def top(a, b, algorithm:typing.Callable, n):\n",
    "    print(a, b)\n",
    "    algorithm(n)\n",
    "    \n",
    "a = 1\n",
    "b = 2\n",
    "n = 3\n",
    "top(a, b, test, n)"
   ]
  },
  {
   "cell_type": "code",
   "execution_count": 2,
   "metadata": {},
   "outputs": [
    {
     "ename": "NameError",
     "evalue": "name 'a' is not defined",
     "output_type": "error",
     "traceback": [
      "\u001b[1;31m---------------------------------------------------------------------------\u001b[0m",
      "\u001b[1;31mNameError\u001b[0m                                 Traceback (most recent call last)",
      "\u001b[1;32md:\\GoodGoodStudy\\Term6.0\\操作系统\\Projects\\3 动态分区管理\\test\\playground.ipynb 单元格 5\u001b[0m in \u001b[0;36m<module>\u001b[1;34m\u001b[0m\n\u001b[0;32m      <a href='vscode-notebook-cell:/d%3A/GoodGoodStudy/Term6.0/%E6%93%8D%E4%BD%9C%E7%B3%BB%E7%BB%9F/Projects/3%20%E5%8A%A8%E6%80%81%E5%88%86%E5%8C%BA%E7%AE%A1%E7%90%86/test/playground.ipynb#W4sZmlsZQ%3D%3D?line=1'>2</a>\u001b[0m n_dict\u001b[39m.\u001b[39mappend({\u001b[39m'\u001b[39m\u001b[39ma\u001b[39m\u001b[39m'\u001b[39m:\u001b[39m1\u001b[39m})\n\u001b[0;32m      <a href='vscode-notebook-cell:/d%3A/GoodGoodStudy/Term6.0/%E6%93%8D%E4%BD%9C%E7%B3%BB%E7%BB%9F/Projects/3%20%E5%8A%A8%E6%80%81%E5%88%86%E5%8C%BA%E7%AE%A1%E7%90%86/test/playground.ipynb#W4sZmlsZQ%3D%3D?line=2'>3</a>\u001b[0m n_dict\u001b[39m.\u001b[39mappend({\u001b[39m'\u001b[39m\u001b[39mb\u001b[39m\u001b[39m'\u001b[39m:\u001b[39m2\u001b[39m})\n\u001b[1;32m----> <a href='vscode-notebook-cell:/d%3A/GoodGoodStudy/Term6.0/%E6%93%8D%E4%BD%9C%E7%B3%BB%E7%BB%9F/Projects/3%20%E5%8A%A8%E6%80%81%E5%88%86%E5%8C%BA%E7%AE%A1%E7%90%86/test/playground.ipynb#W4sZmlsZQ%3D%3D?line=3'>4</a>\u001b[0m n_dict[a]\n",
      "\u001b[1;31mNameError\u001b[0m: name 'a' is not defined"
     ]
    }
   ],
   "source": [
    "n_dict = {}"
   ]
  },
  {
   "cell_type": "code",
   "execution_count": 1,
   "metadata": {},
   "outputs": [
    {
     "data": {
      "text/plain": [
       "'123'"
      ]
     },
     "execution_count": 1,
     "metadata": {},
     "output_type": "execute_result"
    }
   ],
   "source": [
    "str('123')\n",
    "a = \"asd\"\n",
    "a.isalpha()\n",
    "b = 'asd'\n",
    "b.isalpha"
   ]
  }
 ],
 "metadata": {
  "kernelspec": {
   "display_name": "base",
   "language": "python",
   "name": "python3"
  },
  "language_info": {
   "codemirror_mode": {
    "name": "ipython",
    "version": 3
   },
   "file_extension": ".py",
   "mimetype": "text/x-python",
   "name": "python",
   "nbconvert_exporter": "python",
   "pygments_lexer": "ipython3",
   "version": "3.8.8"
  },
  "orig_nbformat": 4
 },
 "nbformat": 4,
 "nbformat_minor": 2
}
